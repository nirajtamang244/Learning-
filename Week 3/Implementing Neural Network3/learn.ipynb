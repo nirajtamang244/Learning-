{
 "cells": [
  {
   "cell_type": "markdown",
   "metadata": {},
   "source": [
    "To make food we should have the ingredients. It is like taking ingredients for making food \"Importing\""
   ]
  },
  {
   "cell_type": "code",
   "execution_count": 14,
   "metadata": {},
   "outputs": [],
   "source": [
    "import torch\n",
    "import torch.nn as nn\n",
    "import torch.optim as optim\n"
   ]
  },
  {
   "cell_type": "markdown",
   "metadata": {},
   "source": [
    "### creating some random input and output data\n",
    "* we have to be mindful that the 64 remained same in in both x and y. \n",
    "* x is like creating a pizza for 64 customers each with 1000 ingredients.\n",
    "* y is like those 64 customers will give review based on 10 different things: taste, crust, cheese, sauce, etc."
   ]
  },
  {
   "cell_type": "code",
   "execution_count": 15,
   "metadata": {},
   "outputs": [],
   "source": [
    "# Create random input and output data\n",
    "x = torch.randn(64, 1000)\n",
    "y = torch.randn(64, 10)\n"
   ]
  },
  {
   "cell_type": "markdown",
   "metadata": {},
   "source": [
    "### Building th Brain of the Model. \n"
   ]
  },
  {
   "cell_type": "code",
   "execution_count": 16,
   "metadata": {},
   "outputs": [],
   "source": [
    "model = nn.Sequential(     # nn.sequential is telling the model to first do this and do that. like in order or sequence.\n",
    "    nn.Linear(1000, 100),   # just like we have 1000 ingredients on us, what this line of code does is takes those 1000 ingredients and makes them 100 important groups like a flavour zone.\n",
    "    nn.ReLU(),          # this activation function makes the choice. if any of the 100 groups we made has a negatice score, this simply will not take that group.\n",
    "    nn.Linear(100, 10)    # this will turn the 100 flavour groups into 10 final ratings based on yuminness, texture, sauce, etc.   \n",
    ")\n"
   ]
  },
  {
   "cell_type": "markdown",
   "metadata": {},
   "source": [
    "The block below assumes how far the result is from the accurate answer. And also improves everysingle time."
   ]
  },
  {
   "cell_type": "code",
   "execution_count": 17,
   "metadata": {},
   "outputs": [],
   "source": [
    "loss_fn = nn.MSELoss()\n",
    "optimizer = optim.SGD(model.parameters(), lr=1e-3)\n"
   ]
  },
  {
   "cell_type": "code",
   "execution_count": 25,
   "metadata": {},
   "outputs": [
    {
     "name": "stdout",
     "output_type": "stream",
     "text": [
      "99 0.4846976138651371\n",
      "199 0.4488377831876278\n",
      "299 0.41583264246582985\n",
      "399 0.3854305250570178\n",
      "499 0.35740614403039217\n",
      "599 0.3315688343718648\n",
      "699 0.3077201312407851\n",
      "799 0.2856678329408169\n",
      "899 0.2653020666912198\n",
      "999 0.24648508988320827\n"
     ]
    }
   ],
   "source": [
    "for t in range(1000):\n",
    "    y_pred = model(x)\n",
    "    loss = loss_fn(y_pred, y)\n",
    "\n",
    "    optimizer.zero_grad()\n",
    "    loss.backward()\n",
    "    optimizer.step()\n",
    "    if t % 100 == 99:\n",
    "       print(t, loss.item() *100)\n",
    "\n"
   ]
  }
 ],
 "metadata": {
  "kernelspec": {
   "display_name": "Python 3",
   "language": "python",
   "name": "python3"
  },
  "language_info": {
   "codemirror_mode": {
    "name": "ipython",
    "version": 3
   },
   "file_extension": ".py",
   "mimetype": "text/x-python",
   "name": "python",
   "nbconvert_exporter": "python",
   "pygments_lexer": "ipython3",
   "version": "3.9.6"
  }
 },
 "nbformat": 4,
 "nbformat_minor": 2
}
