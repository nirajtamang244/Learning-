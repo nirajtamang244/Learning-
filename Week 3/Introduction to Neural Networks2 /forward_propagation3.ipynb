{
 "cells": [
  {
   "cell_type": "code",
   "execution_count": null,
   "metadata": {},
   "outputs": [],
   "source": [
    "import numpy as np\n",
    "\n",
    "# ReLU Activation Function\n",
    "def relu(x):\n",
    "    return np.maximum(0, x)\n",
    "\n",
    "def sigmoid(x):\n",
    "    return 1/(1+np.exp(-x))\n"
   ]
  },
  {
   "cell_type": "code",
   "execution_count": 7,
   "metadata": {},
   "outputs": [
    {
     "name": "stdout",
     "output_type": "stream",
     "text": [
      "Weighted Sum (Z): [2.2 2.4]\n",
      "Forward Propagation Output: [2.2 2.4]\n",
      "The output after sigmoid is: [0.90024951 0.9168273 ]\n"
     ]
    }
   ],
   "source": [
    "#define inside weights and inside bias\n",
    "inside_weights = np.array([\n",
    "    [0.2, 0.8],  # Neuron 1 → Two outputs\n",
    "    [0.5, -0.1], # Neuron 2 → Two outputs\n",
    "    [0.3, 0.7]   # Neuron 3 → Two outputs\n",
    "])\n",
    "inside_bias = np.array([0.1, -0.3])  # Two output neurons have their own biases\n",
    "\n",
    "# for inside_output\n",
    "inputs = np.array([1.0, 2.0, 3.0])# Input data (3 neurons, 2 outputs)\n",
    "z = np.dot(inputs, inside_weights) + inside_bias# Compute weighted sum (Z)\n",
    "print(\"Weighted Sum (Z):\", z)\n",
    "Inside_output = relu(z)# Apply activation function (ReLU)\n",
    "print(\"Forward Propagation Output:\", Inside_output)\n",
    "refined_output= sigmoid(z)#Apply sigmoid function\n",
    "print(\"The output after sigmoid is:\", refined_output)"
   ]
  },
  {
   "cell_type": "code",
   "execution_count": 11,
   "metadata": {},
   "outputs": [
    {
     "name": "stdout",
     "output_type": "stream",
     "text": [
      "The final outside output after the using hidden bias and weight is  [0.57424528]\n"
     ]
    }
   ],
   "source": [
    "\n",
    "#define outside weights and outside bias\n",
    "outside_weights= np.array([[0.1],[0.01]])\n",
    "outside_bias= np.array([0.2])\n",
    "variable= np.dot(refined_output, outside_weights)+outside_bias\n",
    "outside_final_output= sigmoid(variable)\n",
    "print(\"The final outside output after the using hidden bias and weight is \", outside_final_output)"
   ]
  }
 ],
 "metadata": {
  "kernelspec": {
   "display_name": "Python 3",
   "language": "python",
   "name": "python3"
  },
  "language_info": {
   "codemirror_mode": {
    "name": "ipython",
    "version": 3
   },
   "file_extension": ".py",
   "mimetype": "text/x-python",
   "name": "python",
   "nbconvert_exporter": "python",
   "pygments_lexer": "ipython3",
   "version": "3.9.6"
  }
 },
 "nbformat": 4,
 "nbformat_minor": 2
}
