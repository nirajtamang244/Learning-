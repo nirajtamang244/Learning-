{
 "cells": [
  {
   "cell_type": "markdown",
   "metadata": {},
   "source": [
    "# Food freshness detector for Grocery Stores\n",
    "### Super helpful for:\n",
    "\n",
    "* Grocery stores reducing waste 🍌❌\n",
    "* Families to have healthier food ✅\n",
    "* People who want safe, fresh meals 🥗\n",
    "\n"
   ]
  },
  {
   "cell_type": "markdown",
   "metadata": {},
   "source": [
    "We will take three paramters: \n",
    "* Temperature of the environment the food is on (℃)\n",
    "* Smell of the food in current time from 0 to 10. (0 being no smell and 10 being the strong bad smell)\n",
    "* Days that the food has been in the shelf (outside the freezer). We are not counting the days on the freezer assuming they 0% chance of them getting bad on freezer.\n",
    "* Color scale of the food from 0 to 10 (0 being the darkest color and 10 the lightest). If the data is lighter, it is considered to be more fresh"
   ]
  },
  {
   "cell_type": "code",
   "execution_count": 149,
   "metadata": {},
   "outputs": [],
   "source": [
    "import torch\n",
    "import torch.nn as nn\n",
    "\n",
    "#inputing a dataset to train the model what is fresh and not\n",
    "\n",
    "X= torch.tensor([\n",
    "    [40.0, 8.0, 15.0, 2.0],\n",
    "    [20.0, 1.0, 3.0, 9.0],\n",
    "    [38.0, 9.0, 30.0, 1.0 ],\n",
    "    [20.0, 2.0, 5.0, 8.0],\n",
    "    [50.0, 8.0,12.0, 2.0],\n",
    "    [19.0, 0.0, 2.0, 10.0]\n",
    "]\n",
    ")\n",
    "\n",
    "y= torch.tensor(\n",
    "    [\n",
    "    [0.0],\n",
    "    [1.0],\n",
    "    [0.0],\n",
    "    [1.0],\n",
    "    [0.0],\n",
    "    [1.0]\n",
    "    ]\n",
    ")"
   ]
  },
  {
   "cell_type": "markdown",
   "metadata": {},
   "source": [
    "Now creating the brain of the model"
   ]
  },
  {
   "cell_type": "code",
   "execution_count": 150,
   "metadata": {},
   "outputs": [],
   "source": [
    "model= nn.Sequential(\n",
    "    nn.Linear(4,5),\n",
    "    nn.ReLU(),\n",
    "    nn.Linear(5,1),\n",
    "    nn.Sigmoid()\n",
    ")"
   ]
  },
  {
   "cell_type": "markdown",
   "metadata": {},
   "source": [
    "Now creating the lossfunction and also optimizer for the model"
   ]
  },
  {
   "cell_type": "code",
   "execution_count": 151,
   "metadata": {},
   "outputs": [],
   "source": [
    "loss_function= nn.BCELoss()\n",
    "optimizer= torch.optim.SGD(model.parameters(), lr=0.1)"
   ]
  },
  {
   "cell_type": "markdown",
   "metadata": {},
   "source": [
    "Now creating the loop where the training data set will be input and optimize the model to have more accuracy."
   ]
  },
  {
   "cell_type": "code",
   "execution_count": 152,
   "metadata": {},
   "outputs": [],
   "source": [
    "for i in range(1000):\n",
    "    y_pred= model(X)\n",
    "    variable= loss_function(y_pred, y)\n",
    "\n",
    "    optimizer.zero_grad()\n",
    "    variable.backward()\n",
    "    optimizer.step()"
   ]
  },
  {
   "cell_type": "code",
   "execution_count": 153,
   "metadata": {},
   "outputs": [],
   "source": [
    "def freshness_check(food_details):\n",
    "    output= model(torch.tensor(food_details))\n",
    "    final_output= output.item()\n",
    "    print(f\"The food is {final_output * 100:.2f}% fresh\")"
   ]
  },
  {
   "cell_type": "markdown",
   "metadata": {},
   "source": [
    "Now input the temperature, smell, days and color"
   ]
  },
  {
   "cell_type": "code",
   "execution_count": 156,
   "metadata": {},
   "outputs": [
    {
     "name": "stdout",
     "output_type": "stream",
     "text": [
      "The food is 15.10% fresh\n"
     ]
    }
   ],
   "source": [
    "freshness_check([20.0,3.0, 7.0,3.0])"
   ]
  },
  {
   "cell_type": "code",
   "execution_count": 157,
   "metadata": {},
   "outputs": [
    {
     "name": "stdout",
     "output_type": "stream",
     "text": [
      "The food is 2.09% fresh\n"
     ]
    }
   ],
   "source": [
    "freshness_check([40.0,10.0,20.0, 1.0])"
   ]
  },
  {
   "cell_type": "markdown",
   "metadata": {},
   "source": [
    "# Real-life Data "
   ]
  },
  {
   "cell_type": "markdown",
   "metadata": {},
   "source": [
    "### Assume you are a inventory manager at a super market and you have to check what food you need to order and what food  you need to thi out.\n",
    "### This program will help you to check the freshness of your food and make it easier for you to decide whether you need to thi it out or keep it. \n",
    "### This eventually leads you to make a decision whether you need add more of those food or not."
   ]
  },
  {
   "cell_type": "code",
   "execution_count": null,
   "metadata": {},
   "outputs": [],
   "source": [
    "data_table = []  # creating an empty list to collect food data"
   ]
  },
  {
   "cell_type": "code",
   "execution_count": 173,
   "metadata": {},
   "outputs": [
    {
     "name": "stdout",
     "output_type": "stream",
     "text": [
      "The food is 94.13% fresh\n"
     ]
    }
   ],
   "source": [
    "temperature = float(input(\"The temperature of the environment(℃): \"))\n",
    "smell= float(input(\"Smell of the food in current time from 0 (no smell) to 10 (very bad smell): \"))\n",
    "date= float(input(\"Days the food has been in the shelf (outside the freezer): \"))\n",
    "color= float(input(\"Color scale of the food from 0(darkest color) to 10 (lightest)\"))\n",
    "\n",
    "entry = [temperature, smell, date, color]\n",
    "\n",
    "\n",
    "# Make a prediction with model\n",
    "prediction = model(torch.tensor([entry])).item()\n",
    "\n",
    "# Rounding it (1 = fresh, 0 = not fresh)\n",
    "entry.append(round(prediction))\n",
    "\n",
    "# Adding it to the data table\n",
    "data_table.append(entry)\n",
    "\n",
    "freshness_check(entry[:-1])  # Using only the original 4 inputs for display\n"
   ]
  },
  {
   "cell_type": "code",
   "execution_count": 174,
   "metadata": {},
   "outputs": [
    {
     "name": "stdout",
     "output_type": "stream",
     "text": [
      "Food Data Table:\n",
      "Temp: 20.0, Smell: 0.0, Days: 2.0, Color: 10.0, Fresh: 1\n",
      "Temp: 40.0, Smell: 9.0, Days: 20.0, Color: 2.0, Fresh: 0\n",
      "Temp: 20.0, Smell: 3.0, Days: 5.0, Color: 6.0, Fresh: 1\n",
      "Temp: 28.0, Smell: 10.0, Days: 20.0, Color: 2.0, Fresh: 0\n",
      "Temp: 15.0, Smell: 2.0, Days: 9.0, Color: 9.0, Fresh: 1\n",
      "Temp: 10.0, Smell: 9.0, Days: 6.0, Color: 9.0, Fresh: 1\n"
     ]
    }
   ],
   "source": [
    "print(\"Food Data Table:\")\n",
    "for i in data_table:\n",
    "    print(f\"Temp: {i[0]}, Smell: {i[1]}, Days: {i[2]}, Color: {i[3]}, Fresh: {i[4]}\")\n",
    "\n"
   ]
  }
 ],
 "metadata": {
  "kernelspec": {
   "display_name": "Python 3",
   "language": "python",
   "name": "python3"
  },
  "language_info": {
   "codemirror_mode": {
    "name": "ipython",
    "version": 3
   },
   "file_extension": ".py",
   "mimetype": "text/x-python",
   "name": "python",
   "nbconvert_exporter": "python",
   "pygments_lexer": "ipython3",
   "version": "3.9.6"
  }
 },
 "nbformat": 4,
 "nbformat_minor": 2
}
