{
 "cells": [
  {
   "cell_type": "code",
   "execution_count": 1,
   "metadata": {},
   "outputs": [
    {
     "name": "stdout",
     "output_type": "stream",
     "text": [
      "Tensor 1:\n",
      " tensor([[1., 2., 3.],\n",
      "        [4., 5., 6.]])\n",
      "Tensor 2:\n",
      " tensor([[1., 1., 1.],\n",
      "        [1., 1., 1.]])\n",
      "Sum of tensor1: tensor(21.)\n",
      "Mean of tensor1: tensor(3.5000)\n",
      "Element-wise multiplication:\n",
      " tensor([[ 2.,  4.,  6.],\n",
      "        [ 8., 10., 12.]])\n"
     ]
    }
   ],
   "source": [
    "import torch\n",
    "\n",
    "# Create tensors\n",
    "tensor1 = torch.tensor([[1, 2, 3], [4, 5, 6]], dtype=torch.float32)\n",
    "tensor2 = torch.ones((2,3))\n",
    "\n",
    "print(\"Tensor 1:\\n\", tensor1)\n",
    "print(\"Tensor 2:\\n\", tensor2)\n",
    "\n",
    "# Basic operations\n",
    "print(\"Sum of tensor1:\", torch.sum(tensor1))\n",
    "print(\"Mean of tensor1:\", torch.mean(tensor1))\n",
    "print(\"Element-wise multiplication:\\n\", tensor1 * 2)\n"
   ]
  },
  {
   "cell_type": "code",
   "execution_count": null,
   "metadata": {},
   "outputs": [],
   "source": [
    "#Creating a 3x3 tensor and apply addition, multiplication, and division operations.\n",
    "\n",
    "import torch\n",
    "tensor1= torch.tensor([])"
   ]
  }
 ],
 "metadata": {
  "kernelspec": {
   "display_name": "Python 3",
   "language": "python",
   "name": "python3"
  },
  "language_info": {
   "codemirror_mode": {
    "name": "ipython",
    "version": 3
   },
   "file_extension": ".py",
   "mimetype": "text/x-python",
   "name": "python",
   "nbconvert_exporter": "python",
   "pygments_lexer": "ipython3",
   "version": "3.9.6"
  }
 },
 "nbformat": 4,
 "nbformat_minor": 2
}
