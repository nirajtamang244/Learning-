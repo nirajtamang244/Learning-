{
 "cells": [
  {
   "cell_type": "markdown",
   "metadata": {},
   "source": [
    "# Candy Battle Game"
   ]
  },
  {
   "cell_type": "markdown",
   "metadata": {},
   "source": [
    "### In this battle we will have competiton between two groups of candies based on their sweetness. We will test their sweetness and declare a winner. \n",
    "### This model gets updated everysingle time we refresh this. This will make this model more accurate but the result of the winner remains same. "
   ]
  },
  {
   "cell_type": "code",
   "execution_count": 1,
   "metadata": {},
   "outputs": [],
   "source": [
    "import torch\n",
    "import torch.nn as nn\n",
    "\n",
    "# training the data set\n",
    "X = torch.tensor([\n",
    "    [1.0, 2.0, 3.0],\n",
    "    [3.0, 1.0, 0.0],\n",
    "    [2.0, 2.0, 2.0],\n",
    "    [0.0, 0.0, 3.0]\n",
    "])\n",
    "\n",
    "y = torch.tensor([\n",
    "    [1.0],\n",
    "    [0.0],\n",
    "    [1.0],\n",
    "    [0.0]\n",
    "])"
   ]
  },
  {
   "cell_type": "markdown",
   "metadata": {},
   "source": [
    "### We train the dataset first so that the model learns what sweet actually is to give the best result."
   ]
  },
  {
   "cell_type": "code",
   "execution_count": 3,
   "metadata": {},
   "outputs": [],
   "source": [
    "brain_model=  nn.Sequential(\n",
    "    nn.Linear(3,4),\n",
    "    nn.ReLU(),\n",
    "    nn.Linear(4,1),\n",
    "    nn.Sigmoid()\n",
    ") \n"
   ]
  },
  {
   "cell_type": "markdown",
   "metadata": {},
   "source": [
    "This is like the brain of the whole model where it takes the 3 input and gives to 4 neural networks and those 4 neural networks then works as a input and gives 1 output after passing to the \"ReLU\" activation function.\n",
    "\n",
    "Later, the Sigmoid() is used to make the answer to visualize in percentage."
   ]
  },
  {
   "cell_type": "code",
   "execution_count": 4,
   "metadata": {},
   "outputs": [],
   "source": [
    "loss_func= nn.BCELoss()\n",
    "optimizer= torch.optim.SGD(brain_model.parameters(), lr= 0.1)"
   ]
  },
  {
   "cell_type": "markdown",
   "metadata": {},
   "source": [
    "brain_model.parameters() is like \"dials\" optimizer turns them to boost the model styles with learning speed \"lr\""
   ]
  },
  {
   "cell_type": "code",
   "execution_count": 31,
   "metadata": {},
   "outputs": [],
   "source": [
    "for i in range(100):\n",
    "    y_pred= brain_model(X)\n",
    "    variable= loss_func(y_pred, y)# checks how y_pred varies from y. This makes the model to get better and be as close to y(the actual answer)\n",
    "\n",
    "    optimizer.zero_grad() # clears the screen to make new calculation. since we already checked the y_pred with y, this line of code will facilitate by clearing the screen for new input.\n",
    "    variable.backward()\n",
    "    optimizer.step()\n",
    "\n",
    "    "
   ]
  },
  {
   "cell_type": "markdown",
   "metadata": {},
   "source": [
    "The above block of code will train the model with X and y that we already have and make it accurate while it trains the model for 100 times."
   ]
  },
  {
   "cell_type": "code",
   "execution_count": 15,
   "metadata": {},
   "outputs": [],
   "source": [
    "def candy_battle(candyA,candyB):\n",
    "    outputA= brain_model(torch.tensor(candyA))\n",
    "    outputB= brain_model(torch.tensor(candyB))\n",
    "\n",
    "    print(f\"Candy A sweetness : {outputA.item()}\")\n",
    "    print(f\"Candy B sweetness : {outputB.item()}\")\n",
    "\n",
    "    if outputA>outputB:\n",
    "        print(\"winner is Candy A\")\n",
    "    else:\n",
    "        print(\"winner is candy B\")\n",
    "\n",
    "        \n",
    "    "
   ]
  },
  {
   "cell_type": "markdown",
   "metadata": {},
   "source": [
    "The above code block is basically creating the function \"candy_battle\" where you would take candyA and candyB as two parameters and take it to the brain of the model. \n",
    "Since the model is already trained and already knows what makes it more sweet than other, hence, we can compare candyA with candyB and get the answer."
   ]
  },
  {
   "cell_type": "markdown",
   "metadata": {},
   "source": [
    "# LET'S BEGIN THE BATTLE   "
   ]
  },
  {
   "cell_type": "code",
   "execution_count": 24,
   "metadata": {},
   "outputs": [
    {
     "name": "stdout",
     "output_type": "stream",
     "text": [
      "Candy A sweetness : 0.9983463287353516\n",
      "Candy B sweetness : 0.005952793173491955\n",
      "winner is Candy A\n"
     ]
    }
   ],
   "source": [
    "candy_battle([1.0,2.0,3.0], [3.0,1.0,0.0])"
   ]
  },
  {
   "cell_type": "code",
   "execution_count": 29,
   "metadata": {},
   "outputs": [
    {
     "name": "stdout",
     "output_type": "stream",
     "text": [
      "Candy A sweetness : 0.999653697013855\n",
      "Candy B sweetness : 0.9955713152885437\n",
      "winner is Candy A\n"
     ]
    }
   ],
   "source": [
    "candy_battle([2.0,3.9,1.0], [1.9,2.0,1.9])"
   ]
  },
  {
   "cell_type": "code",
   "execution_count": 30,
   "metadata": {},
   "outputs": [
    {
     "name": "stdout",
     "output_type": "stream",
     "text": [
      "Candy A sweetness : 0.014164367690682411\n",
      "Candy B sweetness : 0.13990041613578796\n",
      "winner is candy B\n"
     ]
    }
   ],
   "source": [
    "candy_battle([0.9, 0.1,3.0],[2.0,1.2,0.1])"
   ]
  }
 ],
 "metadata": {
  "kernelspec": {
   "display_name": "Python 3",
   "language": "python",
   "name": "python3"
  },
  "language_info": {
   "codemirror_mode": {
    "name": "ipython",
    "version": 3
   },
   "file_extension": ".py",
   "mimetype": "text/x-python",
   "name": "python",
   "nbconvert_exporter": "python",
   "pygments_lexer": "ipython3",
   "version": "3.9.6"
  }
 },
 "nbformat": 4,
 "nbformat_minor": 2
}
