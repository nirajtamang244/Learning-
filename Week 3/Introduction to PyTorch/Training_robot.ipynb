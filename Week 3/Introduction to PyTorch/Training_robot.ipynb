{
 "cells": [
  {
   "cell_type": "code",
   "execution_count": null,
   "metadata": {},
   "outputs": [],
   "source": [
    "import torch\n",
    "import torch.nn as nn\n",
    "\n",
    "# Candy inputs 🍬\n",
    "X = torch.tensor([\n",
    "    [1.0, 2.0, 3.0],\n",
    "    [3.0, 1.0, 0.0],\n",
    "    [2.0, 2.0, 2.0],\n",
    "    [0.0, 0.0, 3.0]\n",
    "])\n",
    "\n",
    "# Inputing the result for each tensor of X. \n",
    "# If there is any \"0\" in the tensor group it will automatically make the output false or \"0\"\n",
    "y = torch.tensor([\n",
    "    [1.0],\n",
    "    [0.0],\n",
    "    [1.0],\n",
    "    [0.0]\n",
    "])\n",
    "\n",
    "\n"
   ]
  },
  {
   "cell_type": "markdown",
   "metadata": {},
   "source": [
    "### we move on to the brain section"
   ]
  },
  {
   "cell_type": "code",
   "execution_count": 43,
   "metadata": {},
   "outputs": [],
   "source": [
    "# making the robot brain \"model\"\n",
    "model= nn.Sequential(\n",
    "    nn.Linear(3,4),  # it takes the 3 input we took from the \"X\" and forwards it to 4 neural units\n",
    "    nn.ReLU(), # this line of code is basically taking out every input and making decision if we should move forward or not. If there is 0 in the input, it takes out before hand making that \"not sweet \" or false.\n",
    "    nn.Linear(4,1), # those 4 neural units from earlier is taken as the input for this and gives 1 output. Remember! More neural networks= More accurate answers. \n",
    "    nn.Sigmoid()\n",
    ")"
   ]
  },
  {
   "cell_type": "code",
   "execution_count": 31,
   "metadata": {},
   "outputs": [],
   "source": [
    "loss_function= nn.BCELoss()   # BCEloss() is basically telling your program how wrong you are. \n",
    "optimizer= torch.optim.SGD(model.parameters(),lr=0.1) #.optim.SGD is basically telling to fix your mistake by taking one step at a time. The step being the \"lr\" or learning speed.\n"
   ]
  },
  {
   "cell_type": "code",
   "execution_count": null,
   "metadata": {},
   "outputs": [
    {
     "name": "stdout",
     "output_type": "stream",
     "text": [
      "Epoch 0: Loss = 0.0019\n",
      "Epoch 10: Loss = 0.0019\n",
      "Epoch 20: Loss = 0.0019\n",
      "Epoch 30: Loss = 0.0019\n",
      "Epoch 40: Loss = 0.0018\n",
      "Epoch 50: Loss = 0.0018\n",
      "Epoch 60: Loss = 0.0018\n",
      "Epoch 70: Loss = 0.0018\n",
      "Epoch 80: Loss = 0.0017\n",
      "Epoch 90: Loss = 0.0017\n"
     ]
    }
   ],
   "source": [
    "for epoch in range(100):  # Train 100 times\n",
    "    y_pred = model(X)           # Robot makes guesses\n",
    "    loss = loss_function(y_pred, y)   # How wrong was it?\n",
    "\n",
    "    optimizer.zero_grad()       # wipes the \"board\" like wiping but does not erase how the model did this time.\n",
    "    loss.backward()             # Calculate how to fix gears \n",
    "    optimizer.step()            # Update the robot brain and gets better everytime\n",
    "\n",
    "    if epoch % 10 == 0:\n",
    "        print(f\"Epoch {epoch}: Loss = {loss.item():.4f}\")\n"
   ]
  }
 ],
 "metadata": {
  "kernelspec": {
   "display_name": "Python 3",
   "language": "python",
   "name": "python3"
  },
  "language_info": {
   "codemirror_mode": {
    "name": "ipython",
    "version": 3
   },
   "file_extension": ".py",
   "mimetype": "text/x-python",
   "name": "python",
   "nbconvert_exporter": "python",
   "pygments_lexer": "ipython3",
   "version": "3.9.6"
  }
 },
 "nbformat": 4,
 "nbformat_minor": 2
}
