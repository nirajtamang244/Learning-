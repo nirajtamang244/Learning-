{
 "cells": [
  {
   "cell_type": "markdown",
   "metadata": {},
   "source": [
    "### This is a Basic Model where it takes 3 input and gives 2 output. The input we are assuming here is orange, apple , lemon. We expect the answers to be \"The fruit is sour or Sweet\" and \"Eat it or Do not eat it\"\n"
   ]
  },
  {
   "cell_type": "code",
   "execution_count": null,
   "metadata": {},
   "outputs": [],
   "source": [
    "import torch        # Importing the torch \n",
    "import torch.nn as nn\n",
    "\n",
    "#building the model \n",
    "model = nn.Sequential(\n",
    "    nn.Linear(3, 4),   # this signifies that we are taking 3 input with 4 neurons/ gears\n",
    "    nn.ReLU(),          # spark!!!!!   activation function\n",
    "    nn.Linear(4,2)      # this signifies or indicated that we are taking 4 neurons/ gears with 2 answers or output\n",
    "\n",
    ")"
   ]
  },
  {
   "cell_type": "markdown",
   "metadata": {},
   "source": [
    "### We built the model where we used \"model\" as a variable. Later in the code we used \"variable\" to input the tensor. We finally used \"model(variable)\" to execute the program to get output."
   ]
  },
  {
   "cell_type": "code",
   "execution_count": 2,
   "metadata": {},
   "outputs": [
    {
     "name": "stdout",
     "output_type": "stream",
     "text": [
      "tensor([-0.3960,  2.0047], grad_fn=<ViewBackward0>)\n"
     ]
    }
   ],
   "source": [
    "#Iputting the tensor in the variable\n",
    "variable= torch.tensor([1.0,2.0,3.0]) \n",
    "\n",
    "# using the tensor that was input into 'next_variable'\n",
    "next_variable= model(variable)\n",
    "\n",
    "#printing 'next_variable'\n",
    "print(next_variable)"
   ]
  }
 ],
 "metadata": {
  "kernelspec": {
   "display_name": "Python 3",
   "language": "python",
   "name": "python3"
  },
  "language_info": {
   "codemirror_mode": {
    "name": "ipython",
    "version": 3
   },
   "file_extension": ".py",
   "mimetype": "text/x-python",
   "name": "python",
   "nbconvert_exporter": "python",
   "pygments_lexer": "ipython3",
   "version": "3.9.6"
  }
 },
 "nbformat": 4,
 "nbformat_minor": 2
}
