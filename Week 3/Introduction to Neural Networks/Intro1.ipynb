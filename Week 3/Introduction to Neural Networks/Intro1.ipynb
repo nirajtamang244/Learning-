{
 "cells": [
  {
   "cell_type": "markdown",
   "metadata": {},
   "source": [
    "#Neural Network:\n",
    "* Neural Network mimics the behaviour of human brain.\n",
    "* Just like humans take input, the neural network take input\n",
    "* just like all the input have strength of being weak input or strong input, neural network has its weight\n",
    "* Just like all the output is influenced by bias. Hence, all the output is affected by this constant called bias which shifts the output\n",
    "* And there is activation function which decides whether the neuron fires or passes the signal forward or not"
   ]
  },
  {
   "cell_type": "markdown",
   "metadata": {},
   "source": [
    "y=f(w1x1+w2x2+w3x3+b) \n",
    " \n",
    "Where;\n",
    "* w1,w2,w3 are the weights \n",
    "* x1,x2,x3 are the inputs \n",
    "* b is the bias\n",
    "* f is the activation function"
   ]
  },
  {
   "cell_type": "code",
   "execution_count": 1,
   "metadata": {},
   "outputs": [
    {
     "name": "stdout",
     "output_type": "stream",
     "text": [
      "Neuron Output: 4.5\n"
     ]
    }
   ],
   "source": [
    "import numpy as np\n",
    "\n",
    "# Inputs, Weights, and Bias\n",
    "inputs = np.array([1.0, 2.0, 3.0])  # Three inputs\n",
    "weights = np.array([0.5, -1.5, 2.0])  # Three weights\n",
    "bias = 1.0  # Bias term\n",
    "\n",
    "# output \n",
    "output = np.dot(inputs, weights) + bias    # when \"np.dot()\" is used, it automatically triggers the dot product of the arrays. \n",
    "                                       #This np.dot triggers this function or expression \"y=w1x1+w2x2+w3x3+b\" and hence the output.\n",
    "print(\"Neuron Output:\", output)\n",
    "\n"
   ]
  },
  {
   "cell_type": "code",
   "execution_count": 2,
   "metadata": {},
   "outputs": [
    {
     "name": "stdout",
     "output_type": "stream",
     "text": [
      "Neuron Output 120.48999999999998\n",
      "Neuron Changed output is: 150.48999999999998\n"
     ]
    }
   ],
   "source": [
    "inputs= np.array([1.9,2.12,2.23,23.2,12])\n",
    "weights= np.array([1.2,-2.2,-20.2,5.6,4])\n",
    "bias=-10\n",
    "changed_biased= 20# adding another biased to see how the output changes with the bias\n",
    "\n",
    "\n",
    "output= np.dot(inputs,weights)+bias\n",
    "changed_output= np.dot(inputs,weights)+changed_biased\n",
    "\n",
    "\n",
    "print(\"Neuron Output\", output)\n",
    "print(\"Neuron Changed output is:\", changed_output)\n"
   ]
  }
 ],
 "metadata": {
  "kernelspec": {
   "display_name": "Python 3",
   "language": "python",
   "name": "python3"
  },
  "language_info": {
   "codemirror_mode": {
    "name": "ipython",
    "version": 3
   },
   "file_extension": ".py",
   "mimetype": "text/x-python",
   "name": "python",
   "nbconvert_exporter": "python",
   "pygments_lexer": "ipython3",
   "version": "3.9.6"
  }
 },
 "nbformat": 4,
 "nbformat_minor": 2
}
